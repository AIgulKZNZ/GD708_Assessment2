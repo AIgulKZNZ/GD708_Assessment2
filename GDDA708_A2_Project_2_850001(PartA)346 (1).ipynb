{
 "cells": [
  {
   "cell_type": "code",
   "execution_count": 86,
   "id": "4ab5a56a-a001-4dce-b5e5-ecb07009f78a",
   "metadata": {},
   "outputs": [],
   "source": [
    "import pandas as pd"
   ]
  },
  {
   "cell_type": "code",
   "execution_count": 88,
   "id": "af071803-5f5d-4909-b294-527937b891eb",
   "metadata": {},
   "outputs": [],
   "source": [
    "df=pd.read_csv(\"C:\\\\Users\\\\aseks\\\\Downloads\\\\Software Engineer Salaries - Software Engineer Salaries.csv\")"
   ]
  },
  {
   "cell_type": "code",
   "execution_count": 90,
   "id": "45344c6f-1d0b-4e00-a98e-d651ca27bfe4",
   "metadata": {},
   "outputs": [
    {
     "data": {
      "text/html": [
       "<div>\n",
       "<style scoped>\n",
       "    .dataframe tbody tr th:only-of-type {\n",
       "        vertical-align: middle;\n",
       "    }\n",
       "\n",
       "    .dataframe tbody tr th {\n",
       "        vertical-align: top;\n",
       "    }\n",
       "\n",
       "    .dataframe thead th {\n",
       "        text-align: right;\n",
       "    }\n",
       "</style>\n",
       "<table border=\"1\" class=\"dataframe\">\n",
       "  <thead>\n",
       "    <tr style=\"text-align: right;\">\n",
       "      <th></th>\n",
       "      <th>Company</th>\n",
       "      <th>Company Score</th>\n",
       "      <th>Job Title</th>\n",
       "      <th>Location</th>\n",
       "      <th>Date</th>\n",
       "      <th>Salary</th>\n",
       "    </tr>\n",
       "  </thead>\n",
       "  <tbody>\n",
       "    <tr>\n",
       "      <th>0</th>\n",
       "      <td>ViewSoft</td>\n",
       "      <td>4.8</td>\n",
       "      <td>Software Engineer</td>\n",
       "      <td>Manassas, VA</td>\n",
       "      <td>8d</td>\n",
       "      <td>$68K - $94K (Glassdoor est.)</td>\n",
       "    </tr>\n",
       "    <tr>\n",
       "      <th>1</th>\n",
       "      <td>Workiva</td>\n",
       "      <td>4.3</td>\n",
       "      <td>Software Support Engineer</td>\n",
       "      <td>Remote</td>\n",
       "      <td>2d</td>\n",
       "      <td>$61K - $104K (Employer est.)</td>\n",
       "    </tr>\n",
       "    <tr>\n",
       "      <th>2</th>\n",
       "      <td>Garmin International, Inc.</td>\n",
       "      <td>3.9</td>\n",
       "      <td>C# Software Engineer</td>\n",
       "      <td>Cary, NC</td>\n",
       "      <td>2d</td>\n",
       "      <td>$95K - $118K (Glassdoor est.)</td>\n",
       "    </tr>\n",
       "    <tr>\n",
       "      <th>3</th>\n",
       "      <td>Snapchat</td>\n",
       "      <td>3.5</td>\n",
       "      <td>Software Engineer, Fullstack, 1+ Years of Expe...</td>\n",
       "      <td>Los Angeles, CA</td>\n",
       "      <td>2d</td>\n",
       "      <td>$97K - $145K (Employer est.)</td>\n",
       "    </tr>\n",
       "    <tr>\n",
       "      <th>4</th>\n",
       "      <td>Vitesco Technologies Group AG</td>\n",
       "      <td>3.1</td>\n",
       "      <td>Software Engineer</td>\n",
       "      <td>Seguin, TX</td>\n",
       "      <td>2d</td>\n",
       "      <td>$85K - $108K (Glassdoor est.)</td>\n",
       "    </tr>\n",
       "  </tbody>\n",
       "</table>\n",
       "</div>"
      ],
      "text/plain": [
       "                         Company  Company Score  \\\n",
       "0                       ViewSoft            4.8   \n",
       "1                        Workiva            4.3   \n",
       "2     Garmin International, Inc.            3.9   \n",
       "3                       Snapchat            3.5   \n",
       "4  Vitesco Technologies Group AG            3.1   \n",
       "\n",
       "                                           Job Title         Location Date  \\\n",
       "0                                  Software Engineer     Manassas, VA   8d   \n",
       "1                          Software Support Engineer           Remote   2d   \n",
       "2                               C# Software Engineer         Cary, NC   2d   \n",
       "3  Software Engineer, Fullstack, 1+ Years of Expe...  Los Angeles, CA   2d   \n",
       "4                                  Software Engineer       Seguin, TX   2d   \n",
       "\n",
       "                          Salary  \n",
       "0   $68K - $94K (Glassdoor est.)  \n",
       "1   $61K - $104K (Employer est.)  \n",
       "2  $95K - $118K (Glassdoor est.)  \n",
       "3   $97K - $145K (Employer est.)  \n",
       "4  $85K - $108K (Glassdoor est.)  "
      ]
     },
     "execution_count": 90,
     "metadata": {},
     "output_type": "execute_result"
    }
   ],
   "source": [
    "df.head(5)"
   ]
  },
  {
   "cell_type": "code",
   "execution_count": 92,
   "id": "761cb2ef-a121-4d12-b6d5-a6ac7a80b034",
   "metadata": {},
   "outputs": [
    {
     "name": "stdout",
     "output_type": "stream",
     "text": [
      "<class 'pandas.core.frame.DataFrame'>\n",
      "RangeIndex: 870 entries, 0 to 869\n",
      "Data columns (total 6 columns):\n",
      " #   Column         Non-Null Count  Dtype  \n",
      "---  ------         --------------  -----  \n",
      " 0   Company        866 non-null    object \n",
      " 1   Company Score  788 non-null    float64\n",
      " 2   Job Title      865 non-null    object \n",
      " 3   Location       852 non-null    object \n",
      " 4   Date           865 non-null    object \n",
      " 5   Salary         759 non-null    object \n",
      "dtypes: float64(1), object(5)\n",
      "memory usage: 40.9+ KB\n"
     ]
    }
   ],
   "source": [
    "df.info()"
   ]
  },
  {
   "cell_type": "code",
   "execution_count": 94,
   "id": "65229960-ffc2-4ea6-8c1a-ccf260d7e8fe",
   "metadata": {},
   "outputs": [
    {
     "data": {
      "text/html": [
       "<div>\n",
       "<style scoped>\n",
       "    .dataframe tbody tr th:only-of-type {\n",
       "        vertical-align: middle;\n",
       "    }\n",
       "\n",
       "    .dataframe tbody tr th {\n",
       "        vertical-align: top;\n",
       "    }\n",
       "\n",
       "    .dataframe thead th {\n",
       "        text-align: right;\n",
       "    }\n",
       "</style>\n",
       "<table border=\"1\" class=\"dataframe\">\n",
       "  <thead>\n",
       "    <tr style=\"text-align: right;\">\n",
       "      <th></th>\n",
       "      <th>Company Score</th>\n",
       "    </tr>\n",
       "  </thead>\n",
       "  <tbody>\n",
       "    <tr>\n",
       "      <th>count</th>\n",
       "      <td>788.000000</td>\n",
       "    </tr>\n",
       "    <tr>\n",
       "      <th>mean</th>\n",
       "      <td>3.895051</td>\n",
       "    </tr>\n",
       "    <tr>\n",
       "      <th>std</th>\n",
       "      <td>0.525235</td>\n",
       "    </tr>\n",
       "    <tr>\n",
       "      <th>min</th>\n",
       "      <td>1.000000</td>\n",
       "    </tr>\n",
       "    <tr>\n",
       "      <th>25%</th>\n",
       "      <td>3.600000</td>\n",
       "    </tr>\n",
       "    <tr>\n",
       "      <th>50%</th>\n",
       "      <td>3.900000</td>\n",
       "    </tr>\n",
       "    <tr>\n",
       "      <th>75%</th>\n",
       "      <td>4.200000</td>\n",
       "    </tr>\n",
       "    <tr>\n",
       "      <th>max</th>\n",
       "      <td>5.000000</td>\n",
       "    </tr>\n",
       "  </tbody>\n",
       "</table>\n",
       "</div>"
      ],
      "text/plain": [
       "       Company Score\n",
       "count     788.000000\n",
       "mean        3.895051\n",
       "std         0.525235\n",
       "min         1.000000\n",
       "25%         3.600000\n",
       "50%         3.900000\n",
       "75%         4.200000\n",
       "max         5.000000"
      ]
     },
     "execution_count": 94,
     "metadata": {},
     "output_type": "execute_result"
    }
   ],
   "source": [
    "df.describe()"
   ]
  },
  {
   "cell_type": "code",
   "execution_count": 96,
   "id": "402d53b9-e426-42d1-9e0c-25a5450a3971",
   "metadata": {},
   "outputs": [
    {
     "name": "stdout",
     "output_type": "stream",
     "text": [
      "Company            4\n",
      "Company Score     82\n",
      "Job Title          5\n",
      "Location          18\n",
      "Date               5\n",
      "Salary           111\n",
      "dtype: int64\n"
     ]
    }
   ],
   "source": [
    "missing_values = df.isnull().sum()\n",
    "print(missing_values)"
   ]
  },
  {
   "cell_type": "code",
   "execution_count": 126,
   "id": "9d2b0c3a-0288-4197-b123-767e2e3debc8",
   "metadata": {},
   "outputs": [],
   "source": [
    "numeric_columns = df.select_dtypes(include=['float64', 'int64']).columns\n",
    "df_cleaned = df.copy()\n",
    "df_cleaned[numeric_columns] = df_cleaned[numeric_columns].fillna(df_cleaned[numeric_columns].mean())\n"
   ]
  },
  {
   "cell_type": "code",
   "execution_count": 128,
   "id": "59f201a2-b6ac-42bd-b7c8-29f5b9ba40a9",
   "metadata": {},
   "outputs": [],
   "source": [
    "non_numeric_columns = df.select_dtypes(exclude=['float64', 'int64']).columns\n",
    "for col in non_numeric_columns:\n",
    "    df_cleaned[col] = df_cleaned[col].fillna(df_cleaned[col].mode()[0])"
   ]
  },
  {
   "cell_type": "code",
   "execution_count": 130,
   "id": "23aff6f7-e44b-4d70-845f-0df10f090598",
   "metadata": {},
   "outputs": [],
   "source": [
    "from sklearn.preprocessing import MinMaxScaler, LabelEncoder\n",
    "from sklearn.model_selection import train_test_split"
   ]
  },
  {
   "cell_type": "code",
   "execution_count": 134,
   "id": "a5391f4f-714b-4af4-b718-5bd8b14d1c5e",
   "metadata": {},
   "outputs": [],
   "source": [
    "def remove_outliers_iqr(df):\n",
    "    numeric_df = df.select_dtypes(include=['float64', 'int64'])\n",
    "    Q1 = numeric_df.quantile(0.25)\n",
    "    Q3 = numeric_df.quantile(0.75)\n",
    "    IQR = Q3 - Q1\n",
    "    df_outliers_removed = df[~((numeric_df < (Q1 - 1.5 * IQR)) | (numeric_df > (Q3 + 1.5 * IQR))).any(axis=1)]\n",
    "    return df_outliers_removed\n",
    "\n",
    "df_no_outliers = remove_outliers_iqr(df_cleaned)"
   ]
  },
  {
   "cell_type": "code",
   "execution_count": 136,
   "id": "3e7691df-a56c-4bb4-a997-df7c2d97208f",
   "metadata": {},
   "outputs": [],
   "source": [
    "scaler = MinMaxScaler()\n",
    "df_no_outliers.loc[:, numeric_columns] = scaler.fit_transform(df_no_outliers.loc[:, numeric_columns])"
   ]
  },
  {
   "cell_type": "code",
   "execution_count": 140,
   "id": "0cf1978d-407e-4e81-8a93-2d3edf52d726",
   "metadata": {},
   "outputs": [],
   "source": [
    "label_encoder = LabelEncoder()\n",
    "df_no_outliers.loc[:, 'Company'] = label_encoder.fit_transform(df_no_outliers.loc[:, 'Company'])\n",
    "df_no_outliers.loc[:, 'Job Title'] = label_encoder.fit_transform(df_no_outliers.loc[:, 'Job Title'])\n",
    "df_no_outliers.loc[:, 'Location'] = label_encoder.fit_transform(df_no_outliers.loc[:, 'Location'])\n",
    "df_no_outliers.loc[:, 'Salary'] = label_encoder.fit_transform(df_no_outliers.loc[:, 'Salary'])"
   ]
  },
  {
   "cell_type": "code",
   "execution_count": 142,
   "id": "f618335f-c30f-447a-b19a-d682657c1969",
   "metadata": {},
   "outputs": [
    {
     "name": "stdout",
     "output_type": "stream",
     "text": [
      "  Company  Company Score Job Title Location Date Salary\n",
      "0     571       1.000000       294      174   8d    358\n",
      "1     598       0.736842       466      243   2d    320\n",
      "2     230       0.526316        40       55   2d    598\n",
      "3     481       0.315789       418      168   2d    618\n",
      "4     575       0.105263       294      267   2d    500\n"
     ]
    }
   ],
   "source": [
    "X = df_no_outliers.drop(columns=['Salary'])\n",
    "y = df_no_outliers['Salary']\n",
    "X_train, X_test, y_train, y_test = train_test_split(X, y, test_size=0.2, random_state=42)\n",
    "\n",
    "print(df_no_outliers.head())"
   ]
  },
  {
   "cell_type": "code",
   "execution_count": 144,
   "id": "756cc2af-e37b-46bd-84d3-972f4d44c359",
   "metadata": {},
   "outputs": [],
   "source": [
    "df_no_outliers.to_csv('output_filename.csv', index=False)"
   ]
  },
  {
   "cell_type": "code",
   "execution_count": 178,
   "id": "9c08df9d-d878-46be-8ab2-72bb3b38b69e",
   "metadata": {},
   "outputs": [
    {
     "name": "stderr",
     "output_type": "stream",
     "text": [
      "C:\\Users\\aseks\\AppData\\Local\\Temp\\ipykernel_12680\\396687761.py:8: FutureWarning: Downcasting object dtype arrays on .fillna, .ffill, .bfill is deprecated and will change in a future version. Call result.infer_objects(copy=False) instead. To opt-in to the future behavior, set `pd.set_option('future.no_silent_downcasting', True)`\n",
      "  df_no_outliers.loc[:, 'Date'] = df_no_outliers.loc[:, 'Date'].fillna(0).astype(float)\n"
     ]
    },
    {
     "name": "stdout",
     "output_type": "stream",
     "text": [
      "Best Hyperparameters: {'alpha': 100, 'solver': 'lsqr'}\n",
      "Best Cross-Validation Score: -33539.76000228875\n",
      "Test MSE: 33482.23268286485\n"
     ]
    }
   ],
   "source": [
    "df_no_outliers.loc[:, 'Date'] = df_no_outliers.loc[:, 'Date'].astype(str)\n",
    "\n",
    "df_no_outliers.loc[:, 'Date'] = df_no_outliers.loc[:, 'Date'].str.extract(r'(\\d+)')\n",
    "df_no_outliers.loc[:, 'Date'] = pd.to_numeric(df_no_outliers.loc[:, 'Date'], errors='coerce')\n",
    "df_no_outliers.loc[:, 'Date'] = df_no_outliers.loc[:, 'Date'].fillna(0).astype(float)\n",
    "\n",
    "X = df_no_outliers.drop(columns=['Salary'])\n",
    "y = df_no_outliers['Salary']\n",
    "X_train, X_test, y_train, y_test = train_test_split(X, y, test_size=0.2, random_state=42)\n",
    "\n",
    "from sklearn.linear_model import Ridge\n",
    "from sklearn.model_selection import GridSearchCV\n",
    "from sklearn.metrics import mean_squared_error\n",
    "\n",
    "ridge_model = Ridge()\n",
    "\n",
    "# Hyperparameter Grid\n",
    "param_grid = {\n",
    "    'alpha': [0.01, 0.1, 1, 10, 100],\n",
    "    'solver': ['auto', 'svd', 'cholesky', 'lsqr', 'sag', 'saga']\n",
    "}\n",
    "\n",
    "grid_search = GridSearchCV(estimator=ridge_model, param_grid=param_grid, cv=5, scoring='neg_mean_squared_error', n_jobs=-1)\n",
    "grid_search.fit(X_train, y_train)\n",
    "best_params = grid_search.best_params_\n",
    "best_score = grid_search.best_score_\n",
    "y_pred = grid_search.predict(X_test)\n",
    "test_mse = mean_squared_error(y_test, y_pred)\n",
    "\n",
    "print(\"Best Hyperparameters:\", best_params)\n",
    "print(\"Best Cross-Validation Score:\", best_score)\n",
    "print(\"Test MSE:\", test_mse)"
   ]
  },
  {
   "cell_type": "code",
   "execution_count": 180,
   "id": "c378ace1-ae73-449a-b697-50c3a29ece99",
   "metadata": {},
   "outputs": [
    {
     "name": "stdout",
     "output_type": "stream",
     "text": [
      "Mean Absolute Error (MAE): 162.63608205844002\n",
      "R-squared (R²): 0.008310433702036213\n"
     ]
    }
   ],
   "source": [
    "from sklearn.metrics import mean_absolute_error, r2_score\n",
    "mae = mean_absolute_error(y_test, y_pred)\n",
    "r2 = r2_score(y_test, y_pred)\n",
    "\n",
    "print(\"Mean Absolute Error (MAE):\", mae)\n",
    "print(\"R-squared (R²):\", r2)\n"
   ]
  },
  {
   "cell_type": "code",
   "execution_count": 186,
   "id": "73ba51fc-0548-4aa1-9502-2e570fa89ce0",
   "metadata": {},
   "outputs": [
    {
     "name": "stdout",
     "output_type": "stream",
     "text": [
      "Mean CV Score (MAE): 161.88000210180107\n",
      "Standard Deviation of CV Scores: 6.022589371575634\n"
     ]
    }
   ],
   "source": [
    "cv_scores = cross_val_score(ridge_model, X_train, y_train, cv=5, scoring='neg_mean_absolute_error')\n",
    "mean_cv_score = -cv_scores.mean()\n",
    "std_cv_score = cv_scores.std()\n",
    "\n",
    "print(\"Mean CV Score (MAE):\", mean_cv_score)\n",
    "print(\"Standard Deviation of CV Scores:\", std_cv_score)\n",
    "\n"
   ]
  },
  {
   "cell_type": "code",
   "execution_count": null,
   "id": "64359d53-b7ef-4526-b09e-709b3317e832",
   "metadata": {},
   "outputs": [],
   "source": []
  }
 ],
 "metadata": {
  "kernelspec": {
   "display_name": "Python 3 (ipykernel)",
   "language": "python",
   "name": "python3"
  },
  "language_info": {
   "codemirror_mode": {
    "name": "ipython",
    "version": 3
   },
   "file_extension": ".py",
   "mimetype": "text/x-python",
   "name": "python",
   "nbconvert_exporter": "python",
   "pygments_lexer": "ipython3",
   "version": "3.12.4"
  }
 },
 "nbformat": 4,
 "nbformat_minor": 5
}
